{
 "cells": [
  {
   "cell_type": "code",
   "execution_count": 1,
   "id": "baf50470",
   "metadata": {},
   "outputs": [],
   "source": [
    "import torch\n",
    "from torch import nn\n",
    "from torch.utils.data import DataLoader\n",
    "from torchvision import datasets\n",
    "from torchvision.transforms import ToTensor"
   ]
  },
  {
   "cell_type": "code",
   "execution_count": 2,
   "id": "4c2338db",
   "metadata": {},
   "outputs": [],
   "source": [
    "device = 'cuda' if torch.cuda.is_available() else 'cpu'"
   ]
  },
  {
   "cell_type": "code",
   "execution_count": 3,
   "id": "1c501704",
   "metadata": {
    "scrolled": true
   },
   "outputs": [],
   "source": [
    "training_data = datasets.FashionMNIST(\n",
    "    root='data',\n",
    "    train = True,\n",
    "    download = True,\n",
    "    transform = ToTensor()\n",
    ")\n",
    "\n",
    "test_data = datasets.FashionMNIST(\n",
    "    root = 'data',\n",
    "    train = False,\n",
    "    download = True,\n",
    "    transform = ToTensor()\n",
    ")"
   ]
  },
  {
   "cell_type": "code",
   "execution_count": 4,
   "id": "60c6172f",
   "metadata": {},
   "outputs": [],
   "source": [
    "batch_size = 64\n",
    "train_dataloader = DataLoader(training_data, batch_size = batch_size )\n",
    "test_dataloader = DataLoader(test_data, batch_size = batch_size)"
   ]
  },
  {
   "cell_type": "code",
   "execution_count": 5,
   "id": "f16e6d15",
   "metadata": {},
   "outputs": [
    {
     "name": "stdout",
     "output_type": "stream",
     "text": [
      "NeuralNetwork(\n",
      "  (flatten): Flatten(start_dim=1, end_dim=-1)\n",
      "  (linear_relu_stack): Sequential(\n",
      "    (0): Linear(in_features=784, out_features=512, bias=True)\n",
      "    (1): ReLU()\n",
      "    (2): Linear(in_features=512, out_features=512, bias=True)\n",
      "    (3): ReLU()\n",
      "    (4): Linear(in_features=512, out_features=10, bias=True)\n",
      "  )\n",
      ")\n"
     ]
    }
   ],
   "source": [
    "class NeuralNetwork(nn.Module):\n",
    "    def __init__(self):\n",
    "        super(NeuralNetwork, self).__init__()\n",
    "        self.flatten = nn.Flatten()\n",
    "        self.linear_relu_stack = nn.Sequential(\n",
    "            nn.Linear(28*28,512),\n",
    "            nn.ReLU(),\n",
    "            nn.Linear(512,512),\n",
    "            nn.ReLU(),\n",
    "            nn.Linear(512,10))\n",
    "        \n",
    "    def forward(self,x):\n",
    "        x = self.flatten(x)\n",
    "        logits = self.linear_relu_stack(x)\n",
    "        return logits\n",
    "model = NeuralNetwork().to(device)\n",
    "print(model)"
   ]
  },
  {
   "cell_type": "code",
   "execution_count": 6,
   "id": "9be6d211",
   "metadata": {},
   "outputs": [],
   "source": [
    "loss_fn = nn.CrossEntropyLoss()\n",
    "optimizer = torch.optim.SGD(model.parameters(), lr = 1e-3)"
   ]
  },
  {
   "cell_type": "code",
   "execution_count": 7,
   "id": "1a97a536",
   "metadata": {},
   "outputs": [],
   "source": [
    "def train(dataloader, model, loss_fn, optimizer):\n",
    "    size = len(dataloader.dataset)\n",
    "    \n",
    "    for batch, (X, y) in enumerate(dataloader):\n",
    "        X, y = X.to(device), y.to(device)\n",
    "        \n",
    "        pred = model(X)\n",
    "        loss = loss_fn(pred, y)\n",
    "        \n",
    "        optimizer.zero_grad()\n",
    "        loss.backward()\n",
    "        optimizer.step()\n",
    "        \n",
    "        if batch %100 == 0:\n",
    "            loss, current = loss.item(), batch*len(X)\n",
    "            print(f\"loss: {loss:>7f}  [{current:>5d}/{size:>5d}]\")"
   ]
  },
  {
   "cell_type": "code",
   "execution_count": 8,
   "id": "aeb781f2",
   "metadata": {},
   "outputs": [],
   "source": [
    "def test(dataloader, model, loss_fn):\n",
    "    size = len(dataloader.dataset)\n",
    "    num_batches = len(dataloader)\n",
    "    model.eval()\n",
    "    test_loss, correct = 0, 0\n",
    "    \n",
    "    with torch.no_grad():\n",
    "        for X, y in dataloader:\n",
    "            X, y = X.to(device), y.to(device)\n",
    "            pred = model(X)\n",
    "            \n",
    "            test_loss += loss_fn(pred, y).item()\n",
    "            correct += (pred.argmax(1) == y).type(torch.float).sum().item()\n",
    "    test_loss /= num_batches\n",
    "    correct /= size\n",
    "    #모든 img correctness\n",
    "    print(f\"Test Error: \\n Accuracy: {(100*correct):>0.1f}%, Avg loss: {test_loss:>8f} \\n\")"
   ]
  },
  {
   "cell_type": "code",
   "execution_count": 9,
   "id": "625e1ac6",
   "metadata": {},
   "outputs": [
    {
     "name": "stdout",
     "output_type": "stream",
     "text": [
      "Epoch 1\n",
      "-------------------------------\n",
      "loss: 2.298873  [    0/60000]\n",
      "loss: 2.281952  [ 6400/60000]\n",
      "loss: 2.258960  [12800/60000]\n",
      "loss: 2.252796  [19200/60000]\n",
      "loss: 2.254041  [25600/60000]\n",
      "loss: 2.202168  [32000/60000]\n",
      "loss: 2.218419  [38400/60000]\n",
      "loss: 2.182618  [44800/60000]\n",
      "loss: 2.172924  [51200/60000]\n",
      "loss: 2.142123  [57600/60000]\n",
      "Test Error: \n",
      " Accuracy: 46.0%, Avg loss: 2.135088 \n",
      "\n",
      "Epoch 2\n",
      "-------------------------------\n",
      "loss: 2.141484  [    0/60000]\n",
      "loss: 2.129702  [ 6400/60000]\n",
      "loss: 2.069159  [12800/60000]\n",
      "loss: 2.086555  [19200/60000]\n",
      "loss: 2.045918  [25600/60000]\n",
      "loss: 1.970744  [32000/60000]\n",
      "loss: 1.997345  [38400/60000]\n",
      "loss: 1.921522  [44800/60000]\n",
      "loss: 1.908983  [51200/60000]\n",
      "loss: 1.839411  [57600/60000]\n",
      "Test Error: \n",
      " Accuracy: 59.9%, Avg loss: 1.837612 \n",
      "\n",
      "Epoch 3\n",
      "-------------------------------\n",
      "loss: 1.865090  [    0/60000]\n",
      "loss: 1.836393  [ 6400/60000]\n",
      "loss: 1.718349  [12800/60000]\n",
      "loss: 1.759454  [19200/60000]\n",
      "loss: 1.664657  [25600/60000]\n",
      "loss: 1.609278  [32000/60000]\n",
      "loss: 1.625086  [38400/60000]\n",
      "loss: 1.543139  [44800/60000]\n",
      "loss: 1.548519  [51200/60000]\n",
      "loss: 1.449318  [57600/60000]\n",
      "Test Error: \n",
      " Accuracy: 61.3%, Avg loss: 1.472953 \n",
      "\n",
      "Epoch 4\n",
      "-------------------------------\n",
      "loss: 1.531566  [    0/60000]\n",
      "loss: 1.506252  [ 6400/60000]\n",
      "loss: 1.363354  [12800/60000]\n",
      "loss: 1.437844  [19200/60000]\n",
      "loss: 1.332919  [25600/60000]\n",
      "loss: 1.320564  [32000/60000]\n",
      "loss: 1.337291  [38400/60000]\n",
      "loss: 1.277074  [44800/60000]\n",
      "loss: 1.293896  [51200/60000]\n",
      "loss: 1.205173  [57600/60000]\n",
      "Test Error: \n",
      " Accuracy: 63.5%, Avg loss: 1.230470 \n",
      "\n",
      "Epoch 5\n",
      "-------------------------------\n",
      "loss: 1.296197  [    0/60000]\n",
      "loss: 1.286150  [ 6400/60000]\n",
      "loss: 1.130152  [12800/60000]\n",
      "loss: 1.236671  [19200/60000]\n",
      "loss: 1.119928  [25600/60000]\n",
      "loss: 1.136816  [32000/60000]\n",
      "loss: 1.163859  [38400/60000]\n",
      "loss: 1.112629  [44800/60000]\n",
      "loss: 1.134578  [51200/60000]\n",
      "loss: 1.060881  [57600/60000]\n",
      "Test Error: \n",
      " Accuracy: 64.7%, Avg loss: 1.078492 \n",
      "\n",
      "Done!\n"
     ]
    }
   ],
   "source": [
    "epochs = 5\n",
    "\n",
    "for t in range(epochs):\n",
    "    print(f\"Epoch {t+1}\\n-------------------------------\")\n",
    "    train(train_dataloader, model, loss_fn, optimizer)\n",
    "    test(test_dataloader, model, loss_fn)\n",
    "print(\"Done!\")"
   ]
  },
  {
   "cell_type": "code",
   "execution_count": null,
   "id": "cd04beed",
   "metadata": {},
   "outputs": [],
   "source": []
  },
  {
   "cell_type": "code",
   "execution_count": null,
   "id": "bf17bca9",
   "metadata": {},
   "outputs": [],
   "source": []
  },
  {
   "cell_type": "code",
   "execution_count": null,
   "id": "68daa0ae",
   "metadata": {},
   "outputs": [],
   "source": []
  },
  {
   "cell_type": "code",
   "execution_count": null,
   "id": "6c0b38fc",
   "metadata": {},
   "outputs": [],
   "source": []
  },
  {
   "cell_type": "code",
   "execution_count": null,
   "id": "58ff9874",
   "metadata": {},
   "outputs": [],
   "source": []
  }
 ],
 "metadata": {
  "kernelspec": {
   "display_name": "Python 3 (ipykernel)",
   "language": "python",
   "name": "python3"
  },
  "language_info": {
   "codemirror_mode": {
    "name": "ipython",
    "version": 3
   },
   "file_extension": ".py",
   "mimetype": "text/x-python",
   "name": "python",
   "nbconvert_exporter": "python",
   "pygments_lexer": "ipython3",
   "version": "3.9.12"
  }
 },
 "nbformat": 4,
 "nbformat_minor": 5
}
